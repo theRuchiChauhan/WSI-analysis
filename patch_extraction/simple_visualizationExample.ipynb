{
 "cells": [
  {
   "cell_type": "code",
   "execution_count": 1,
   "metadata": {
    "collapsed": true
   },
   "outputs": [],
   "source": [
    "import os\n",
    "\n",
    "from PIL import Image\n",
    "import pickle\n",
    "\n",
    "import pandas as pd\n",
    "import matplotlib.pyplot as plt\n",
    "\n",
    "from WSIAnalysis.patch_extraction.utils import \\\n",
    "pre_analysis"
   ]
  },
  {
   "cell_type": "markdown",
   "metadata": {},
   "source": [
    "### paths & files"
   ]
  },
  {
   "cell_type": "code",
   "execution_count": 2,
   "metadata": {
    "collapsed": true
   },
   "outputs": [],
   "source": [
    "anno_dir='../data-wsi/camelyon17/lesion_annotations/'\n",
    "training_dir='../data-wsi/camelyon17/training/'\n",
    "\n",
    "annoxml_list= ['patient_015_node_2.xml', 'patient_020_node_4.xml', \\\n",
    "               'patient_015_node_1.xml', 'patient_017_node_2.xml', \\\n",
    "               'patient_012_node_0.xml', 'patient_010_node_4.xml']\n",
    "\n",
    "slidetif_list= ['patient_015_node_2.tif', 'patient_020_node_4.tif', \\\n",
    "                'patient_015_node_1.tif', 'patient_017_node_2.tif', \\\n",
    "                'patient_012_node_0.tif', 'patient_010_node_4.tif', \\\n",
    "                'patient_010_node_1.tif', 'patient_010_node_2.tif']\n",
    "\n",
    "slide_list= ['patient_015_node_2', 'patient_020_node_4', \\\n",
    "             'patient_015_node_1', 'patient_017_node_2', \\\n",
    "             'patient_012_node_0', 'patient_010_node_4', \\\n",
    "             'patient_010_node_1', 'patient_010_node_2']\n",
    "\n",
    "section_list = ['00', '01', '02', '03', \\\n",
    "                '10', '11', '12', '13', \\\n",
    "                '20', '21', '22', '23', \\\n",
    "                '30', '31', '32', '33']\n",
    "\n",
    "dataset_dir = './dataset_patches/'\n",
    "level_dir='/level1/'"
   ]
  },
  {
   "cell_type": "markdown",
   "metadata": {},
   "source": [
    "### patient_015_node_2"
   ]
  },
  {
   "cell_type": "code",
   "execution_count": 3,
   "metadata": {
    "scrolled": false
   },
   "outputs": [
    {
     "name": "stdout",
     "output_type": "stream",
     "text": [
      "patient_015_node_2\n",
      "total number of patches:  2416\n"
     ]
    },
    {
     "data": {
      "image/png": "[encoded data removed]",
      "text/plain": [
       "<Figure size 432x288 with 1 Axes>"
      ]
     },
     "metadata": {},
     "output_type": "display_data"
    },
    {
     "name": "stdout",
     "output_type": "stream",
     "text": [
      "Example of tumor patches:\n",
      "    index  coord_x  coord_y  tumor_area  tumor_%\n",
      "0    379    32749    51306      250000      1.0\n",
      "1    387    31499    51556      250000      1.0\n",
      "2    365    32749    51056      250000      1.0\n",
      "3    364    32499    51056      250000      1.0\n",
      "4    354    33249    50806      250000      1.0\n",
      "5    353    32999    50806      250000      1.0\n",
      "6    352    32749    50806      250000      1.0\n",
      "7    351    32499    50806      250000      1.0\n",
      "8    343    33249    50556      250000      1.0\n",
      "9    342    32999    50556      250000      1.0\n",
      "Number of positive patches:  128\n",
      "Number of negative patches:  2288\n"
     ]
    }
   ],
   "source": [
    "pd_all, pd_tumor, positive_patches_path, negative_patches_path = \\\n",
    "pre_analysis(slide_list[0], section_list)"
   ]
  },
  {
   "cell_type": "markdown",
   "metadata": {},
   "source": [
    "### patient_020_node_4"
   ]
  },
  {
   "cell_type": "code",
   "execution_count": 4,
   "metadata": {},
   "outputs": [
    {
     "name": "stdout",
     "output_type": "stream",
     "text": [
      "patient_020_node_4\n",
      "total number of patches:  11871\n"
     ]
    },
    {
     "data": {
      "image/png": "[encoded data removed]",
      "text/plain": [
       "<Figure size 432x288 with 1 Axes>"
      ]
     },
     "metadata": {},
     "output_type": "display_data"
    },
    {
     "name": "stdout",
     "output_type": "stream",
     "text": [
      "Example of tumor patches:\n",
      "    index  coord_x  coord_y  tumor_area  tumor_%\n",
      "0   1293    31242    59644      250000      1.0\n",
      "1   1209    33242    59144      250000      1.0\n",
      "2   1203    31742    59144      250000      1.0\n",
      "3   1204    31992    59144      250000      1.0\n",
      "4   1205    32242    59144      250000      1.0\n",
      "5   1206    32492    59144      250000      1.0\n",
      "6   1207    32742    59144      250000      1.0\n",
      "7   1208    32992    59144      250000      1.0\n",
      "8   1210    33492    59144      250000      1.0\n",
      "9   1201    31242    59144      250000      1.0\n",
      "Number of positive patches:  310\n",
      "Number of negative patches:  11561\n"
     ]
    }
   ],
   "source": [
    "pd_all, pd_tumor, positive_patches_path, negative_patches_path = \\\n",
    "pre_analysis(slide_list[1], section_list)"
   ]
  },
  {
   "cell_type": "markdown",
   "metadata": {},
   "source": [
    "### patient_015_node_1"
   ]
  },
  {
   "cell_type": "code",
   "execution_count": 5,
   "metadata": {},
   "outputs": [
    {
     "name": "stdout",
     "output_type": "stream",
     "text": [
      "patient_015_node_1\n",
      "total number of patches:  3173\n"
     ]
    },
    {
     "data": {
      "image/png": "[encoded data removed]",
      "text/plain": [
       "<Figure size 432x288 with 1 Axes>"
      ]
     },
     "metadata": {},
     "output_type": "display_data"
    },
    {
     "name": "stdout",
     "output_type": "stream",
     "text": [
      "Example of tumor patches:\n",
      "    index  coord_x  coord_y  tumor_area  tumor_%\n",
      "0   1770    16371    73622      250000      1.0\n",
      "1   1774    17371    73622      250000      1.0\n",
      "2   1780    18871    73622      250000      1.0\n",
      "3   1779    18621    73622      250000      1.0\n",
      "4   1778    18371    73622      250000      1.0\n",
      "5   1777    18121    73622      250000      1.0\n",
      "6   1776    17871    73622      250000      1.0\n",
      "7   1775    17621    73622      250000      1.0\n",
      "8   1773    17121    73622      250000      1.0\n",
      "9   1782    19371    73622      250000      1.0\n",
      "Number of positive patches:  386\n",
      "Number of negative patches:  2787\n"
     ]
    }
   ],
   "source": [
    "pd_all, pd_tumor, positive_patches_path, negative_patches_path = \\\n",
    "pre_analysis(slide_list[2], section_list)"
   ]
  },
  {
   "cell_type": "markdown",
   "metadata": {},
   "source": [
    "### patient_012_node_0"
   ]
  },
  {
   "cell_type": "code",
   "execution_count": 6,
   "metadata": {},
   "outputs": [
    {
     "name": "stdout",
     "output_type": "stream",
     "text": [
      "patient_012_node_0\n",
      "total number of patches:  1767\n"
     ]
    },
    {
     "data": {
      "image/png": "[encoded data removed]",
      "text/plain": [
       "<Figure size 432x288 with 1 Axes>"
      ]
     },
     "metadata": {},
     "output_type": "display_data"
    },
    {
     "name": "stdout",
     "output_type": "stream",
     "text": [
      "Example of tumor patches:\n",
      "    index  coord_x  coord_y  tumor_area  tumor_%\n",
      "0    195    10552    50806      250000      1.0\n",
      "1    252    10802    51306      250000      1.0\n",
      "2    234     6302    51306      250000      1.0\n",
      "3    235     6552    51306      250000      1.0\n",
      "4    236     6802    51306      250000      1.0\n",
      "5    237     7052    51306      250000      1.0\n",
      "6    238     7302    51306      250000      1.0\n",
      "7    239     7552    51306      250000      1.0\n",
      "8    240     7802    51306      250000      1.0\n",
      "9    241     8052    51306      250000      1.0\n",
      "Number of positive patches:  796\n",
      "Number of negative patches:  971\n"
     ]
    }
   ],
   "source": [
    "pd_all, pd_tumor, positive_patches_path, negative_patches_path = \\\n",
    "pre_analysis(slide_list[4], section_list)"
   ]
  }
 ],
 "metadata": {
  "kernelspec": {
   "display_name": "ipykernel_py35",
   "language": "python",
   "name": "ipykernel_py35"
  },
  "language_info": {
   "codemirror_mode": {
    "name": "ipython",
    "version": 3
   },
   "file_extension": ".py",
   "mimetype": "text/x-python",
   "name": "python",
   "nbconvert_exporter": "python",
   "pygments_lexer": "ipython3",
   "version": "3.5.4"
  }
 },
 "nbformat": 4,
 "nbformat_minor": 2
}
